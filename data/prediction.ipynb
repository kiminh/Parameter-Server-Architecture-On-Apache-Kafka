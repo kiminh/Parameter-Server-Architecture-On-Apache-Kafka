{
 "cells": [
  {
   "cell_type": "code",
   "execution_count": 2,
   "metadata": {},
   "outputs": [],
   "source": [
    "import pandas as pd"
   ]
  },
  {
   "cell_type": "code",
   "execution_count": 34,
   "metadata": {},
   "outputs": [
    {
     "data": {
      "text/html": [
       "<div>\n",
       "<style scoped>\n",
       "    .dataframe tbody tr th:only-of-type {\n",
       "        vertical-align: middle;\n",
       "    }\n",
       "\n",
       "    .dataframe tbody tr th {\n",
       "        vertical-align: top;\n",
       "    }\n",
       "\n",
       "    .dataframe thead th {\n",
       "        text-align: right;\n",
       "    }\n",
       "</style>\n",
       "<table border=\"1\" class=\"dataframe\">\n",
       "  <thead>\n",
       "    <tr style=\"text-align: right;\">\n",
       "      <th></th>\n",
       "      <th>Text</th>\n",
       "      <th>Score</th>\n",
       "    </tr>\n",
       "  </thead>\n",
       "  <tbody>\n",
       "    <tr>\n",
       "      <th>125213</th>\n",
       "      <td>Say what you will about Mint Mentos but they a...</td>\n",
       "      <td>4</td>\n",
       "    </tr>\n",
       "    <tr>\n",
       "      <th>409972</th>\n",
       "      <td>This cider has a very nice and sweet taste. Wh...</td>\n",
       "      <td>5</td>\n",
       "    </tr>\n",
       "    <tr>\n",
       "      <th>310380</th>\n",
       "      <td>I bought several of the Kind bar flavors and t...</td>\n",
       "      <td>2</td>\n",
       "    </tr>\n",
       "    <tr>\n",
       "      <th>73137</th>\n",
       "      <td>I have tried many Erin Baker cookies and have ...</td>\n",
       "      <td>5</td>\n",
       "    </tr>\n",
       "    <tr>\n",
       "      <th>201800</th>\n",
       "      <td>Haven't found a whole wheat pasta you like?  W...</td>\n",
       "      <td>5</td>\n",
       "    </tr>\n",
       "  </tbody>\n",
       "</table>\n",
       "</div>"
      ],
      "text/plain": [
       "                                                     Text Score\n",
       "125213  Say what you will about Mint Mentos but they a...     4\n",
       "409972  This cider has a very nice and sweet taste. Wh...     5\n",
       "310380  I bought several of the Kind bar flavors and t...     2\n",
       "73137   I have tried many Erin Baker cookies and have ...     5\n",
       "201800  Haven't found a whole wheat pasta you like?  W...     5"
      ]
     },
     "execution_count": 34,
     "metadata": {},
     "output_type": "execute_result"
    }
   ],
   "source": [
    "df = pd.read_csv('./Reviews.csv')\n",
    "df = df[['Text', 'Score']]\n",
    "df = df.sample(frac=0.2)\n",
    "df['Score'] = df['Score'].astype(str)\n",
    "df.head()"
   ]
  },
  {
   "cell_type": "code",
   "execution_count": 35,
   "metadata": {},
   "outputs": [
    {
     "data": {
      "text/plain": [
       "113691"
      ]
     },
     "execution_count": 35,
     "metadata": {},
     "output_type": "execute_result"
    }
   ],
   "source": [
    "len(df)"
   ]
  },
  {
   "cell_type": "code",
   "execution_count": 36,
   "metadata": {},
   "outputs": [],
   "source": [
    "import datawig\n",
    "df_train, df_test = datawig.utils.random_split(df)"
   ]
  },
  {
   "cell_type": "code",
   "execution_count": 37,
   "metadata": {
    "scrolled": true
   },
   "outputs": [
    {
     "name": "stderr",
     "output_type": "stream",
     "text": [
      "2020-02-01 21:35:56,742 [INFO]  \n",
      "========== start: fit model\n",
      "2020-02-01 21:35:56,749 [WARNING]  Already bound, ignoring bind()\n",
      "2020-02-01 21:35:58,655 [INFO]  Epoch[0] Batch [2558]\tSpeed: 21542.73 samples/sec\tcross-entropy=0.956901\tScore-accuracy=0.645369\n",
      "2020-02-01 21:36:00,576 [INFO]  Epoch[0] Train-cross-entropy=0.869133\n",
      "2020-02-01 21:36:00,577 [INFO]  Epoch[0] Train-Score-accuracy=0.660002\n",
      "2020-02-01 21:36:00,578 [INFO]  Epoch[0] Time cost=3.826\n",
      "2020-02-01 21:36:00,582 [INFO]  Saved checkpoint to \"score/model-0000.params\"\n",
      "2020-02-01 21:36:00,943 [INFO]  Epoch[0] Validation-cross-entropy=0.870670\n",
      "2020-02-01 21:36:00,945 [INFO]  Epoch[0] Validation-Score-accuracy=0.666740\n",
      "2020-02-01 21:36:03,057 [INFO]  Epoch[1] Batch [2558]\tSpeed: 19413.05 samples/sec\tcross-entropy=0.839581\tScore-accuracy=0.671014\n",
      "2020-02-01 21:36:05,042 [INFO]  Epoch[1] Train-cross-entropy=0.822870\n",
      "2020-02-01 21:36:05,044 [INFO]  Epoch[1] Train-Score-accuracy=0.676525\n",
      "2020-02-01 21:36:05,045 [INFO]  Epoch[1] Time cost=4.100\n",
      "2020-02-01 21:36:05,049 [INFO]  Saved checkpoint to \"score/model-0001.params\"\n",
      "2020-02-01 21:36:05,408 [INFO]  Epoch[1] Validation-cross-entropy=0.843070\n",
      "2020-02-01 21:36:05,409 [INFO]  Epoch[1] Validation-Score-accuracy=0.673660\n",
      "2020-02-01 21:36:07,299 [INFO]  Epoch[2] Batch [2558]\tSpeed: 21694.33 samples/sec\tcross-entropy=0.813979\tScore-accuracy=0.680271\n",
      "2020-02-01 21:36:09,191 [INFO]  Epoch[2] Train-cross-entropy=0.804007\n",
      "2020-02-01 21:36:09,192 [INFO]  Epoch[2] Train-Score-accuracy=0.684469\n",
      "2020-02-01 21:36:09,193 [INFO]  Epoch[2] Time cost=3.783\n",
      "2020-02-01 21:36:09,197 [INFO]  Saved checkpoint to \"score/model-0002.params\"\n",
      "2020-02-01 21:36:09,549 [INFO]  Epoch[2] Validation-cross-entropy=0.832152\n",
      "2020-02-01 21:36:09,551 [INFO]  Epoch[2] Validation-Score-accuracy=0.676845\n",
      "2020-02-01 21:36:11,599 [INFO]  Epoch[3] Batch [2558]\tSpeed: 20013.23 samples/sec\tcross-entropy=0.801406\tScore-accuracy=0.685180\n",
      "2020-02-01 21:36:13,545 [INFO]  Epoch[3] Train-cross-entropy=0.793339\n",
      "2020-02-01 21:36:13,546 [INFO]  Epoch[3] Train-Score-accuracy=0.688551\n",
      "2020-02-01 21:36:13,547 [INFO]  Epoch[3] Time cost=3.995\n",
      "2020-02-01 21:36:13,551 [INFO]  Saved checkpoint to \"score/model-0003.params\"\n",
      "2020-02-01 21:36:13,906 [INFO]  Epoch[3] Validation-cross-entropy=0.826704\n",
      "2020-02-01 21:36:13,907 [INFO]  Epoch[3] Validation-Score-accuracy=0.677944\n",
      "2020-02-01 21:36:15,788 [INFO]  Epoch[4] Batch [2558]\tSpeed: 21807.36 samples/sec\tcross-entropy=0.793786\tScore-accuracy=0.687988\n",
      "2020-02-01 21:36:17,679 [INFO]  Epoch[4] Train-cross-entropy=0.786422\n",
      "2020-02-01 21:36:17,681 [INFO]  Epoch[4] Train-Score-accuracy=0.691729\n",
      "2020-02-01 21:36:17,682 [INFO]  Epoch[4] Time cost=3.773\n",
      "2020-02-01 21:36:17,686 [INFO]  Saved checkpoint to \"score/model-0004.params\"\n",
      "2020-02-01 21:36:18,037 [INFO]  Epoch[4] Validation-cross-entropy=0.823708\n",
      "2020-02-01 21:36:18,039 [INFO]  Epoch[4] Validation-Score-accuracy=0.678822\n",
      "2020-02-01 21:36:19,975 [INFO]  Epoch[5] Batch [2558]\tSpeed: 21173.80 samples/sec\tcross-entropy=0.788647\tScore-accuracy=0.690260\n",
      "2020-02-01 21:36:21,980 [INFO]  Epoch[5] Train-cross-entropy=0.781578\n",
      "2020-02-01 21:36:21,983 [INFO]  Epoch[5] Train-Score-accuracy=0.693611\n",
      "2020-02-01 21:36:21,985 [INFO]  Epoch[5] Time cost=3.945\n",
      "2020-02-01 21:36:21,989 [INFO]  Saved checkpoint to \"score/model-0005.params\"\n",
      "2020-02-01 21:36:22,467 [INFO]  Epoch[5] Validation-cross-entropy=0.821994\n",
      "2020-02-01 21:36:22,469 [INFO]  Epoch[5] Validation-Score-accuracy=0.678054\n",
      "2020-02-01 21:36:24,352 [INFO]  Epoch[6] Batch [2558]\tSpeed: 21772.16 samples/sec\tcross-entropy=0.784946\tScore-accuracy=0.691799\n",
      "2020-02-01 21:36:26,564 [INFO]  Epoch[6] Train-cross-entropy=0.778008\n",
      "2020-02-01 21:36:26,565 [INFO]  Epoch[6] Train-Score-accuracy=0.694955\n",
      "2020-02-01 21:36:26,566 [INFO]  Epoch[6] Time cost=4.096\n",
      "2020-02-01 21:36:26,571 [INFO]  Saved checkpoint to \"score/model-0006.params\"\n",
      "2020-02-01 21:36:26,946 [INFO]  Epoch[6] Validation-cross-entropy=0.821015\n",
      "2020-02-01 21:36:26,948 [INFO]  Epoch[6] Validation-Score-accuracy=0.679042\n",
      "2020-02-01 21:36:28,941 [INFO]  Epoch[7] Batch [2558]\tSpeed: 20566.29 samples/sec\tcross-entropy=0.782162\tScore-accuracy=0.692556\n",
      "2020-02-01 21:36:30,827 [INFO]  Epoch[7] Train-cross-entropy=0.775279\n",
      "2020-02-01 21:36:30,829 [INFO]  Epoch[7] Train-Score-accuracy=0.695859\n",
      "2020-02-01 21:36:30,830 [INFO]  Epoch[7] Time cost=3.881\n",
      "2020-02-01 21:36:30,833 [INFO]  Saved checkpoint to \"score/model-0007.params\"\n",
      "2020-02-01 21:36:31,179 [INFO]  Epoch[7] Validation-cross-entropy=0.820484\n",
      "2020-02-01 21:36:31,181 [INFO]  Epoch[7] Validation-Score-accuracy=0.678822\n",
      "2020-02-01 21:36:33,059 [INFO]  Epoch[8] Batch [2558]\tSpeed: 21820.31 samples/sec\tcross-entropy=0.779999\tScore-accuracy=0.693972\n",
      "2020-02-01 21:36:34,938 [INFO]  Epoch[8] Train-cross-entropy=0.773136\n",
      "2020-02-01 21:36:34,939 [INFO]  Epoch[8] Train-Score-accuracy=0.696788\n",
      "2020-02-01 21:36:34,941 [INFO]  Epoch[8] Time cost=3.759\n",
      "2020-02-01 21:36:34,945 [INFO]  Saved checkpoint to \"score/model-0008.params\"\n",
      "2020-02-01 21:36:35,287 [INFO]  Epoch[8] Validation-cross-entropy=0.820235\n",
      "2020-02-01 21:36:35,288 [INFO]  Epoch[8] Validation-Score-accuracy=0.679921\n",
      "2020-02-01 21:36:37,200 [INFO]  Epoch[9] Batch [2558]\tSpeed: 21438.03 samples/sec\tcross-entropy=0.778278\tScore-accuracy=0.694754\n",
      "2020-02-01 21:36:39,240 [INFO]  Epoch[9] Train-cross-entropy=0.771415\n",
      "2020-02-01 21:36:39,241 [INFO]  Epoch[9] Train-Score-accuracy=0.697375\n",
      "2020-02-01 21:36:39,242 [INFO]  Epoch[9] Time cost=3.952\n",
      "2020-02-01 21:36:39,247 [INFO]  Saved checkpoint to \"score/model-0009.params\"\n",
      "2020-02-01 21:36:39,633 [INFO]  Epoch[9] Validation-cross-entropy=0.820170\n",
      "2020-02-01 21:36:39,634 [INFO]  Epoch[9] Validation-Score-accuracy=0.679262\n",
      "2020-02-01 21:36:41,945 [INFO]  Epoch[10] Batch [2558]\tSpeed: 17740.28 samples/sec\tcross-entropy=0.776882\tScore-accuracy=0.695413\n",
      "2020-02-01 21:36:43,912 [INFO]  Epoch[10] Train-cross-entropy=0.770010\n",
      "2020-02-01 21:36:43,913 [INFO]  Epoch[10] Train-Score-accuracy=0.697766\n",
      "2020-02-01 21:36:43,914 [INFO]  Epoch[10] Time cost=4.278\n",
      "2020-02-01 21:36:43,918 [INFO]  Saved checkpoint to \"score/model-0010.params\"\n",
      "2020-02-01 21:36:44,276 [INFO]  Epoch[10] Validation-cross-entropy=0.820225\n",
      "2020-02-01 21:36:44,277 [INFO]  Epoch[10] Validation-Score-accuracy=0.679042\n",
      "2020-02-01 21:36:46,349 [INFO]  Epoch[11] Batch [2558]\tSpeed: 19787.70 samples/sec\tcross-entropy=0.775731\tScore-accuracy=0.695755\n",
      "2020-02-01 21:36:48,307 [INFO]  Epoch[11] Train-cross-entropy=0.768844\n",
      "2020-02-01 21:36:48,308 [INFO]  Epoch[11] Train-Score-accuracy=0.698010\n",
      "2020-02-01 21:36:48,309 [INFO]  Epoch[11] Time cost=4.031\n",
      "2020-02-01 21:36:48,314 [INFO]  Saved checkpoint to \"score/model-0011.params\"\n",
      "2020-02-01 21:36:48,667 [INFO]  Epoch[11] Validation-cross-entropy=0.820361\n",
      "2020-02-01 21:36:48,668 [INFO]  Epoch[11] Validation-Score-accuracy=0.679921\n",
      "2020-02-01 21:36:50,544 [INFO]  Epoch[12] Batch [2558]\tSpeed: 21855.57 samples/sec\tcross-entropy=0.774770\tScore-accuracy=0.696122\n",
      "2020-02-01 21:36:52,531 [INFO]  Epoch[12] Train-cross-entropy=0.767866\n",
      "2020-02-01 21:36:52,533 [INFO]  Epoch[12] Train-Score-accuracy=0.698499\n",
      "2020-02-01 21:36:52,534 [INFO]  Epoch[12] Time cost=3.865\n",
      "2020-02-01 21:36:52,539 [INFO]  Saved checkpoint to \"score/model-0012.params\"\n",
      "2020-02-01 21:36:52,893 [INFO]  Epoch[12] Validation-cross-entropy=0.820549\n",
      "2020-02-01 21:36:52,894 [INFO]  Epoch[12] Validation-Score-accuracy=0.680360\n",
      "2020-02-01 21:36:54,892 [INFO]  Epoch[13] Batch [2558]\tSpeed: 20516.99 samples/sec\tcross-entropy=0.773959\tScore-accuracy=0.696586\n",
      "2020-02-01 21:36:56,819 [INFO]  Epoch[13] Train-cross-entropy=0.767037\n",
      "2020-02-01 21:36:56,821 [INFO]  Epoch[13] Train-Score-accuracy=0.698915\n",
      "2020-02-01 21:36:56,822 [INFO]  Epoch[13] Time cost=3.926\n",
      "2020-02-01 21:36:56,826 [INFO]  Saved checkpoint to \"score/model-0013.params\"\n",
      "2020-02-01 21:36:57,191 [INFO]  Epoch[13] Validation-cross-entropy=0.820771\n",
      "2020-02-01 21:36:57,192 [INFO]  Epoch[13] Validation-Score-accuracy=0.680470\n",
      "2020-02-01 21:36:59,090 [INFO]  Epoch[14] Batch [2558]\tSpeed: 21612.34 samples/sec\tcross-entropy=0.773268\tScore-accuracy=0.696879\n",
      "2020-02-01 21:37:00,966 [INFO]  Epoch[14] Train-cross-entropy=0.766326\n",
      "2020-02-01 21:37:00,967 [INFO]  Epoch[14] Train-Score-accuracy=0.699232\n"
     ]
    },
    {
     "name": "stderr",
     "output_type": "stream",
     "text": [
      "2020-02-01 21:37:00,968 [INFO]  Epoch[14] Time cost=3.774\n",
      "2020-02-01 21:37:00,972 [INFO]  Saved checkpoint to \"score/model-0014.params\"\n",
      "2020-02-01 21:37:01,325 [INFO]  No improvement detected for 5 epochs compared to 0.8201697274963969 last error obtained: 0.821013314076593, stopping here\n",
      "2020-02-01 21:37:01,326 [INFO]  \n",
      "========== done (64.58504295349121 s) fit model\n"
     ]
    }
   ],
   "source": [
    "import datawig\n",
    "\n",
    "#Initialize a SimpleImputer model\n",
    "imputer = datawig.SimpleImputer(\n",
    "    input_columns=['Text'], # column(s) containing information about the column we want to impute\n",
    "    output_column='Score', # the column we'd like to impute values for\n",
    "    num_hash_buckets=1024\n",
    ")\n",
    "\n",
    "#Fit an imputer model on the train data\n",
    "imputer.fit(train_df=df_train)\n",
    "\n",
    "#Impute missing values and return original dataframe with predictions\n",
    "imputed = imputer.predict(df_test)"
   ]
  },
  {
   "cell_type": "code",
   "execution_count": 38,
   "metadata": {},
   "outputs": [
    {
     "data": {
      "text/html": [
       "<div>\n",
       "<style scoped>\n",
       "    .dataframe tbody tr th:only-of-type {\n",
       "        vertical-align: middle;\n",
       "    }\n",
       "\n",
       "    .dataframe tbody tr th {\n",
       "        vertical-align: top;\n",
       "    }\n",
       "\n",
       "    .dataframe thead th {\n",
       "        text-align: right;\n",
       "    }\n",
       "</style>\n",
       "<table border=\"1\" class=\"dataframe\">\n",
       "  <thead>\n",
       "    <tr style=\"text-align: right;\">\n",
       "      <th></th>\n",
       "      <th>Text</th>\n",
       "      <th>Score</th>\n",
       "      <th>Score_imputed</th>\n",
       "      <th>Score_imputed_proba</th>\n",
       "    </tr>\n",
       "  </thead>\n",
       "  <tbody>\n",
       "    <tr>\n",
       "      <th>129367</th>\n",
       "      <td>DISGUSTING, RANCID AND UNRETURNABLE \"FOOD\" PRO...</td>\n",
       "      <td>1</td>\n",
       "      <td>1</td>\n",
       "      <td>0.997988</td>\n",
       "    </tr>\n",
       "    <tr>\n",
       "      <th>184095</th>\n",
       "      <td>There's really nothing wrong with the caps, as...</td>\n",
       "      <td>3</td>\n",
       "      <td>1</td>\n",
       "      <td>0.399915</td>\n",
       "    </tr>\n",
       "    <tr>\n",
       "      <th>245943</th>\n",
       "      <td>Fantastic product, just as stated. Not disappo...</td>\n",
       "      <td>5</td>\n",
       "      <td>5</td>\n",
       "      <td>0.640273</td>\n",
       "    </tr>\n",
       "    <tr>\n",
       "      <th>511846</th>\n",
       "      <td>We previously bought Bragg's similar product -...</td>\n",
       "      <td>5</td>\n",
       "      <td>5</td>\n",
       "      <td>0.538741</td>\n",
       "    </tr>\n",
       "    <tr>\n",
       "      <th>368387</th>\n",
       "      <td>This is the best beef jerky that I have found ...</td>\n",
       "      <td>5</td>\n",
       "      <td>5</td>\n",
       "      <td>0.844313</td>\n",
       "    </tr>\n",
       "  </tbody>\n",
       "</table>\n",
       "</div>"
      ],
      "text/plain": [
       "                                                     Text Score Score_imputed  \\\n",
       "129367  DISGUSTING, RANCID AND UNRETURNABLE \"FOOD\" PRO...     1             1   \n",
       "184095  There's really nothing wrong with the caps, as...     3             1   \n",
       "245943  Fantastic product, just as stated. Not disappo...     5             5   \n",
       "511846  We previously bought Bragg's similar product -...     5             5   \n",
       "368387  This is the best beef jerky that I have found ...     5             5   \n",
       "\n",
       "        Score_imputed_proba  \n",
       "129367             0.997988  \n",
       "184095             0.399915  \n",
       "245943             0.640273  \n",
       "511846             0.538741  \n",
       "368387             0.844313  "
      ]
     },
     "execution_count": 38,
     "metadata": {},
     "output_type": "execute_result"
    }
   ],
   "source": [
    "imputed.head()"
   ]
  },
  {
   "cell_type": "code",
   "execution_count": 39,
   "metadata": {},
   "outputs": [
    {
     "name": "stdout",
     "output_type": "stream",
     "text": [
      "              precision    recall  f1-score   support\n",
      "\n",
      "           1       0.47      0.53      0.50      2000\n",
      "           2       0.36      0.08      0.14      1198\n",
      "           3       0.34      0.19      0.24      1701\n",
      "           4       0.38      0.13      0.19      3201\n",
      "           5       0.75      0.93      0.83     14638\n",
      "\n",
      "   micro avg       0.68      0.68      0.68     22738\n",
      "   macro avg       0.46      0.37      0.38     22738\n",
      "weighted avg       0.62      0.68      0.63     22738\n",
      "\n"
     ]
    }
   ],
   "source": [
    "from sklearn.metrics import classification_report\n",
    "\n",
    "print(classification_report(imputed.Score, imputed.Score_imputed))"
   ]
  },
  {
   "cell_type": "code",
   "execution_count": null,
   "metadata": {},
   "outputs": [],
   "source": []
  },
  {
   "cell_type": "code",
   "execution_count": 3,
   "metadata": {},
   "outputs": [],
   "source": [
    "df_tmp = pd.read_csv('./reviews_embedded.csv')"
   ]
  },
  {
   "cell_type": "code",
   "execution_count": 4,
   "metadata": {},
   "outputs": [
    {
     "data": {
      "text/plain": [
       "284227"
      ]
     },
     "execution_count": 4,
     "metadata": {},
     "output_type": "execute_result"
    }
   ],
   "source": [
    "len(df_tmp)"
   ]
  },
  {
   "cell_type": "code",
   "execution_count": 44,
   "metadata": {},
   "outputs": [
    {
     "data": {
      "text/plain": [
       "56845.4"
      ]
     },
     "execution_count": 44,
     "metadata": {},
     "output_type": "execute_result"
    }
   ],
   "source": [
    "284227*0.2"
   ]
  },
  {
   "cell_type": "code",
   "execution_count": 12,
   "metadata": {},
   "outputs": [],
   "source": [
    "num_tuples_test = 10000\n",
    "\n",
    "# Load data\n",
    "df_tmp = pd.read_csv('./reviews_embedded.csv')\n",
    "\n",
    "# Test data\n",
    "df_tmp.head(num_tuples_test).to_csv('./reviews_embedded_test.csv', index=False)\n",
    "\n",
    "# Train data\n",
    "df_tmp.tail(len(df_tmp) - num_tuples_test).to_csv('./reviews_embedded_train.csv', index=False)"
   ]
  },
  {
   "cell_type": "code",
   "execution_count": 12,
   "metadata": {},
   "outputs": [
    {
     "data": {
      "text/plain": [
       "<matplotlib.axes._subplots.AxesSubplot at 0x121c39320>"
      ]
     },
     "execution_count": 12,
     "metadata": {},
     "output_type": "execute_result"
    },
    {
     "data": {
      "image/png": "[encoded data removed]",
      "text/plain": [
       "<Figure size 1440x1080 with 1 Axes>"
      ]
     },
     "metadata": {},
     "output_type": "display_data"
    }
   ],
   "source": [
    "import pandas as pd\n",
    "import numpy as np\n",
    "import matplotlib.pyplot as plt\n",
    "from matplotlib.pyplot import figure, ylim, xticks\n",
    "\n",
    "figure(num=None, figsize=(8, 6), dpi=180, facecolor='w', edgecolor='k')\n",
    "plt.rcParams['lines.linewidth'] = 2\n",
    "plt.rcParams['lines.color'] = 'r'\n",
    "xticks(np.arange(1, 6, step=1))\n",
    "\n",
    "\n",
    "df_tmp = pd.read_csv('./reviews_embedded_train.csv')\n",
    "df_tmp['Score'].hist()"
   ]
  },
  {
   "cell_type": "code",
   "execution_count": 13,
   "metadata": {},
   "outputs": [
    {
     "data": {
      "text/plain": [
       "274227"
      ]
     },
     "execution_count": 13,
     "metadata": {},
     "output_type": "execute_result"
    }
   ],
   "source": [
    "len(df_tmp)"
   ]
  },
  {
   "cell_type": "code",
   "execution_count": null,
   "metadata": {},
   "outputs": [],
   "source": []
  }
 ],
 "metadata": {
  "kernelspec": {
   "display_name": "Python 3",
   "language": "python",
   "name": "python3"
  },
  "language_info": {
   "codemirror_mode": {
    "name": "ipython",
    "version": 3
   },
   "file_extension": ".py",
   "mimetype": "text/x-python",
   "name": "python",
   "nbconvert_exporter": "python",
   "pygments_lexer": "ipython3",
   "version": "3.6.5"
  }
 },
 "nbformat": 4,
 "nbformat_minor": 2
}
